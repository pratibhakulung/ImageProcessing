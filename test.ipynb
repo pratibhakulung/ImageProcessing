{
 "cells": [
  {
   "cell_type": "code",
   "execution_count": 2,
   "id": "3f8f3db8",
   "metadata": {},
   "outputs": [],
   "source": [
    "import  SimpleITK as sitk\n",
    "from ipywidgets import interact\n",
    "# from downloaddata import fetch_data, fetch_data_all\n",
    "\n",
    "image_viewer = sitk.ImageViewer()\n",
    "image_viewer.SetApplication('C:/Program Files/ITK-SNAP 4.2/bin/ITK-SNAP.exe')\n",
    "\n",
    "image=sitk.ReadImage(\"C:/Users/User/Desktop/Task/3702_left_knee.nii.gz\")\n",
    "#image_viewer.Execute(image)\n"
   ]
  },
  {
   "cell_type": "code",
   "execution_count": 16,
   "id": "c5486e50",
   "metadata": {},
   "outputs": [
    {
     "name": "stdout",
     "output_type": "stream",
     "text": [
      "Origin:(-222.5, -222.5, -900.5)\n",
      "Size: (512, 512, 216)\n",
      "Spacing: (0.8691409826278687, 0.8691409826278687, 2.0)\n",
      "Direction: (1.0, 0.0, 0.0, 0.0, 1.0, 0.0, 0.0, 0.0, 1.0)\n",
      "Number of Components Per Pixel: <bound method Image.GetNumberOfComponentsPerPixel of <SimpleITK.SimpleITK.Image; proxy of <Swig Object of type 'itk::simple::Image *' at 0x000001F1C20A2B50> >>\n"
     ]
    }
   ],
   "source": [
    "print(f'Origin:{image.GetOrigin()}')\n",
    "print(f'Size: {image.GetSize()}')\n",
    "print(f'Spacing: {image.GetSpacing()}')\n",
    "print(f'Direction: {image.GetDirection()}')\n",
    "print(f'Number of Components Per Pixel: {image.GetNumberOfComponentsPerPixel}')"
   ]
  },
  {
   "cell_type": "code",
   "execution_count": 17,
   "id": "9bc921c8",
   "metadata": {},
   "outputs": [],
   "source": [
    "image_array=sitk.GetArrayFromImage(image)\n"
   ]
  },
  {
   "cell_type": "markdown",
   "id": "10abdab6",
   "metadata": {},
   "source": [
    "#### The HU values for bone=100, so applying binary thresholding"
   ]
  },
  {
   "cell_type": "code",
   "execution_count": 18,
   "id": "f733c6ca",
   "metadata": {},
   "outputs": [],
   "source": [
    "import numpy as np"
   ]
  },
  {
   "cell_type": "code",
   "execution_count": 19,
   "id": "372269f6",
   "metadata": {},
   "outputs": [],
   "source": [
    "mask_array=np.where(image_array>300,1,0)"
   ]
  },
  {
   "cell_type": "code",
   "execution_count": 20,
   "id": "4dceba3e",
   "metadata": {},
   "outputs": [
    {
     "name": "stdout",
     "output_type": "stream",
     "text": [
      "1\n"
     ]
    }
   ],
   "source": [
    "print(np.max(mask_array))"
   ]
  },
  {
   "cell_type": "code",
   "execution_count": 21,
   "id": "785d3862",
   "metadata": {},
   "outputs": [],
   "source": [
    "import matplotlib.pyplot as plt "
   ]
  },
  {
   "cell_type": "code",
   "execution_count": 22,
   "id": "a7010880",
   "metadata": {},
   "outputs": [],
   "source": [
    "mask=sitk.GetImageFromArray(mask_array)"
   ]
  },
  {
   "cell_type": "code",
   "execution_count": null,
   "id": "bea8e6be",
   "metadata": {},
   "outputs": [],
   "source": []
  },
  {
   "cell_type": "code",
   "execution_count": 23,
   "id": "f216ce6b",
   "metadata": {},
   "outputs": [
    {
     "name": "stdout",
     "output_type": "stream",
     "text": [
      "Origin:((-222.5, -222.5, -900.5), (0.0, 0.0, 0.0))\n",
      "Size: ((512, 512, 216), (512, 512, 216))\n",
      "Spacing: ((0.8691409826278687, 0.8691409826278687, 2.0), (1.0, 1.0, 1.0))\n",
      "Direction: ((1.0, 0.0, 0.0, 0.0, 1.0, 0.0, 0.0, 0.0, 1.0), (1.0, 0.0, 0.0, 0.0, 1.0, 0.0, 0.0, 0.0, 1.0))\n",
      "Number of Components Per Pixel: (<bound method Image.GetNumberOfComponentsPerPixel of <SimpleITK.SimpleITK.Image; proxy of <Swig Object of type 'itk::simple::Image *' at 0x000001F1C20A2B50> >>, 1)\n"
     ]
    }
   ],
   "source": [
    "print(f'Origin:{image.GetOrigin(),mask.GetOrigin()}')\n",
    "print(f'Size: {image.GetSize(),mask.GetSize()}')\n",
    "print(f'Spacing: {image.GetSpacing(),mask.GetSpacing()}')\n",
    "print(f'Direction: {image.GetDirection(),mask.GetDirection()}')\n",
    "print(f'Number of Components Per Pixel: {image.GetNumberOfComponentsPerPixel,mask.GetNumberOfComponentsPerPixel()}')"
   ]
  },
  {
   "cell_type": "code",
   "execution_count": 24,
   "id": "cfa07b47",
   "metadata": {},
   "outputs": [],
   "source": [
    "mask.SetOrigin(image.GetOrigin())\n",
    "mask.SetSpacing(image.GetSpacing())\n"
   ]
  },
  {
   "cell_type": "code",
   "execution_count": 42,
   "id": "5d80a763",
   "metadata": {},
   "outputs": [],
   "source": [
    "temp=[1,1,1]"
   ]
  },
  {
   "cell_type": "code",
   "execution_count": 43,
   "id": "b333dfd3",
   "metadata": {},
   "outputs": [],
   "source": [
    "post_processed_mask=sitk.BinaryOpeningByReconstruction(mask,temp,sitk.sitkBall)"
   ]
  },
  {
   "cell_type": "code",
   "execution_count": null,
   "id": "ae02ec2d",
   "metadata": {},
   "outputs": [],
   "source": [
    "#mask_image=sitk.WriteImage(post_processed_mask,'mask_with_1_kernel.nii.gz')"
   ]
  },
  {
   "cell_type": "code",
   "execution_count": 3,
   "id": "eef30514",
   "metadata": {},
   "outputs": [],
   "source": [
    "new_mask=sitk.ReadImage('C:/Users/User/Desktop/Task/mask_with_1_kernel.nii.gz')"
   ]
  },
  {
   "cell_type": "code",
   "execution_count": 12,
   "id": "db57601d",
   "metadata": {},
   "outputs": [],
   "source": [
    "dilation=sitk.BinaryDilateImageFilter()"
   ]
  },
  {
   "cell_type": "code",
   "execution_count": 17,
   "id": "67325039",
   "metadata": {},
   "outputs": [],
   "source": [
    "dilation.SetKernelRadius((2,2,2))\n",
    "dilation.SetKernelType(sitk.sitkBall)"
   ]
  },
  {
   "cell_type": "code",
   "execution_count": 20,
   "id": "670b3162",
   "metadata": {},
   "outputs": [],
   "source": [
    "final=dilation.Execute(new_mask)"
   ]
  },
  {
   "cell_type": "code",
   "execution_count": 21,
   "id": "ec7d3fd5",
   "metadata": {},
   "outputs": [],
   "source": [
    "sitk.WriteImage(final,'test.nii.gz')"
   ]
  },
  {
   "cell_type": "code",
   "execution_count": null,
   "id": "4d67cb3c",
   "metadata": {},
   "outputs": [],
   "source": []
  }
 ],
 "metadata": {
  "kernelspec": {
   "display_name": "base",
   "language": "python",
   "name": "python3"
  },
  "language_info": {
   "codemirror_mode": {
    "name": "ipython",
    "version": 3
   },
   "file_extension": ".py",
   "mimetype": "text/x-python",
   "name": "python",
   "nbconvert_exporter": "python",
   "pygments_lexer": "ipython3",
   "version": "3.12.3"
  }
 },
 "nbformat": 4,
 "nbformat_minor": 5
}
