{
 "cells": [
  {
   "cell_type": "code",
   "execution_count": 2,
   "id": "3f8f3db8",
   "metadata": {},
   "outputs": [],
   "source": [
    "import  SimpleITK as sitk\n",
    "from ipywidgets import interact\n",
    "import numpy as np\n",
    "import matplotlib.pyplot as plt\n",
    "from skimage import feature\n",
    "# from downloaddata import fetch_data, fetch_data_all\n",
    "\n",
    "image_viewer = sitk.ImageViewer()\n",
    "image_viewer.SetApplication('C:/Program Files/ITK-SNAP 4.2/bin/ITK-SNAP.exe')\n",
    "\n",
    "image=sitk.ReadImage(\"C:/Users/User/Desktop/Task/3702_left_knee.nii.gz\")\n",
    "#image_viewer.Execute(image)\n"
   ]
  },
  {
   "cell_type": "code",
   "execution_count": 58,
   "id": "2248f029",
   "metadata": {},
   "outputs": [],
   "source": [
    "image_array=sitk.GetArrayFromImage(image)"
   ]
  },
  {
   "cell_type": "code",
   "execution_count": 59,
   "id": "10b39ad1",
   "metadata": {},
   "outputs": [],
   "source": [
    "# body_mask = sitk.BinaryThreshold(image, lowerThreshold=-150, upperThreshold=1500, insideValue=1, outsideValue=0)\n",
    "# cc = sitk.ConnectedComponent(body_mask)\n",
    "# stats = sitk.LabelShapeStatisticsImageFilter()\n",
    "# stats.Execute(cc)\n",
    "\n",
    "# largest_label = max(stats.GetLabels(), key=lambda l: stats.GetPhysicalSize(l))\n",
    "# largest_component_mask = sitk.BinaryThreshold(cc, lowerThreshold=largest_label, upperThreshold=largest_label, insideValue=1, outsideValue=0)\n",
    "# large=sitk.BinaryClosingByReconstruction(largest_component_mask,[5,5,5],sitk.sitkBall)\n",
    "\n",
    "\n",
    "# body=sitk.GetArrayFromImage(large)"
   ]
  },
  {
   "cell_type": "code",
   "execution_count": 60,
   "id": "49a0d0f8",
   "metadata": {},
   "outputs": [],
   "source": [
    "# cleaned_image=image_array*body\n",
    "# clean=sitk.GetImageFromArray(cleaned_image)\n",
    "# clean.SetOrigin(image.GetOrigin())\n",
    "# clean.SetSpacing(image.GetSpacing())"
   ]
  },
  {
   "cell_type": "code",
   "execution_count": 61,
   "id": "261f7bb3",
   "metadata": {},
   "outputs": [],
   "source": [
    "# sitk.WriteImage(cleaned_image_masking,'clean_mask.nii.gz')"
   ]
  },
  {
   "cell_type": "code",
   "execution_count": 62,
   "id": "6cf85996",
   "metadata": {},
   "outputs": [],
   "source": [
    "# plt.imshow(body[200,:,:],cmap='gray')"
   ]
  },
  {
   "cell_type": "code",
   "execution_count": null,
   "id": "0baf0716",
   "metadata": {},
   "outputs": [],
   "source": []
  },
  {
   "cell_type": "code",
   "execution_count": 3,
   "id": "49675d53",
   "metadata": {},
   "outputs": [],
   "source": [
    "main_image=sitk.ReadImage('clean.nii.gz')"
   ]
  },
  {
   "cell_type": "code",
   "execution_count": 4,
   "id": "8e5b8c23",
   "metadata": {},
   "outputs": [
    {
     "data": {
      "text/plain": [
       "1769"
      ]
     },
     "execution_count": 4,
     "metadata": {},
     "output_type": "execute_result"
    }
   ],
   "source": [
    "main=sitk.GetArrayFromImage(main_image)\n",
    "np.max(main)"
   ]
  },
  {
   "cell_type": "code",
   "execution_count": 5,
   "id": "e15578f3",
   "metadata": {},
   "outputs": [],
   "source": [
    "feature_img = sitk.GradientMagnitude(main_image)\n"
   ]
  },
  {
   "cell_type": "code",
   "execution_count": null,
   "id": "101b440b",
   "metadata": {},
   "outputs": [],
   "source": [
    "ws_img = sitk.MorphologicalWatershed(feature_img, level=20, markWatershedLine=False, fullyConnected=False)\n"
   ]
  },
  {
   "cell_type": "code",
   "execution_count": 172,
   "id": "977eaf4b",
   "metadata": {},
   "outputs": [],
   "source": [
    "sitk.WriteImage(ws_img,'ws_imag.nii.gz')"
   ]
  },
  {
   "cell_type": "code",
   "execution_count": null,
   "id": "856f4f5f",
   "metadata": {},
   "outputs": [
    {
     "data": {
      "text/plain": [
       "array([[[0, 0, 0, ..., 0, 0, 0],\n",
       "        [0, 0, 0, ..., 0, 0, 0],\n",
       "        [0, 0, 0, ..., 0, 0, 0],\n",
       "        ...,\n",
       "        [0, 0, 0, ..., 0, 0, 0],\n",
       "        [0, 0, 0, ..., 0, 0, 0],\n",
       "        [0, 0, 0, ..., 0, 0, 0]],\n",
       "\n",
       "       [[0, 0, 0, ..., 0, 0, 0],\n",
       "        [0, 0, 0, ..., 0, 0, 0],\n",
       "        [0, 0, 0, ..., 0, 0, 0],\n",
       "        ...,\n",
       "        [0, 0, 0, ..., 0, 0, 0],\n",
       "        [0, 0, 0, ..., 0, 0, 0],\n",
       "        [0, 0, 0, ..., 0, 0, 0]],\n",
       "\n",
       "       [[0, 0, 0, ..., 0, 0, 0],\n",
       "        [0, 0, 0, ..., 0, 0, 0],\n",
       "        [0, 0, 0, ..., 0, 0, 0],\n",
       "        ...,\n",
       "        [0, 0, 0, ..., 0, 0, 0],\n",
       "        [0, 0, 0, ..., 0, 0, 0],\n",
       "        [0, 0, 0, ..., 0, 0, 0]],\n",
       "\n",
       "       ...,\n",
       "\n",
       "       [[0, 0, 0, ..., 0, 0, 0],\n",
       "        [0, 0, 0, ..., 0, 0, 0],\n",
       "        [0, 0, 0, ..., 0, 0, 0],\n",
       "        ...,\n",
       "        [0, 0, 0, ..., 0, 0, 0],\n",
       "        [0, 0, 0, ..., 0, 0, 0],\n",
       "        [0, 0, 0, ..., 0, 0, 0]],\n",
       "\n",
       "       [[0, 0, 0, ..., 0, 0, 0],\n",
       "        [0, 0, 0, ..., 0, 0, 0],\n",
       "        [0, 0, 0, ..., 0, 0, 0],\n",
       "        ...,\n",
       "        [0, 0, 0, ..., 0, 0, 0],\n",
       "        [0, 0, 0, ..., 0, 0, 0],\n",
       "        [0, 0, 0, ..., 0, 0, 0]],\n",
       "\n",
       "       [[0, 0, 0, ..., 0, 0, 0],\n",
       "        [0, 0, 0, ..., 0, 0, 0],\n",
       "        [0, 0, 0, ..., 0, 0, 0],\n",
       "        ...,\n",
       "        [0, 0, 0, ..., 0, 0, 0],\n",
       "        [0, 0, 0, ..., 0, 0, 0],\n",
       "        [0, 0, 0, ..., 0, 0, 0]]])"
      ]
     },
     "execution_count": 8,
     "metadata": {},
     "output_type": "execute_result"
    }
   ],
   "source": []
  },
  {
   "cell_type": "code",
   "execution_count": 9,
   "id": "716c9bef",
   "metadata": {},
   "outputs": [
    {
     "ename": "ModuleNotFoundError",
     "evalue": "No module named 'cv2'",
     "output_type": "error",
     "traceback": [
      "\u001b[1;31m---------------------------------------------------------------------------\u001b[0m",
      "\u001b[1;31mModuleNotFoundError\u001b[0m                       Traceback (most recent call last)",
      "Cell \u001b[1;32mIn[9], line 3\u001b[0m\n\u001b[0;32m      1\u001b[0m \u001b[38;5;28;01mimport\u001b[39;00m \u001b[38;5;21;01mnibabel\u001b[39;00m \u001b[38;5;28;01mas\u001b[39;00m \u001b[38;5;21;01mnib\u001b[39;00m\n\u001b[0;32m      2\u001b[0m \u001b[38;5;28;01mimport\u001b[39;00m \u001b[38;5;21;01mnumpy\u001b[39;00m \u001b[38;5;28;01mas\u001b[39;00m \u001b[38;5;21;01mnp\u001b[39;00m\n\u001b[1;32m----> 3\u001b[0m \u001b[38;5;28;01mimport\u001b[39;00m \u001b[38;5;21;01mcv2\u001b[39;00m\n\u001b[0;32m      4\u001b[0m \u001b[38;5;28;01mimport\u001b[39;00m \u001b[38;5;21;01mos\u001b[39;00m\n\u001b[0;32m      6\u001b[0m \u001b[38;5;66;03m# Load NIfTI file\u001b[39;00m\n",
      "\u001b[1;31mModuleNotFoundError\u001b[0m: No module named 'cv2'"
     ]
    }
   ],
   "source": [
    "import nibabel as nib\n",
    "import numpy as np\n",
    "import cv2\n",
    "import os\n",
    "\n",
    "# Load NIfTI file\n",
    "nifti_path = 'clean.nii.gz'\n",
    "nifti_img = nib.load(nifti_path)\n",
    "volume = nifti_img.get_fdata()\n",
    "affine = nifti_img.affine\n",
    "\n",
    "# Output: list of marker coordinates in image space\n",
    "marker_coords = []\n",
    "\n",
    "# Iterate through axial slices (or other orientations if needed)\n",
    "for z in range(volume.shape[2]):\n",
    "    slice_img = volume[:, :, z]\n",
    "    \n",
    "    # Normalize to 0-255 for OpenCV\n",
    "    norm_slice = cv2.normalize(slice_img, None, 0, 255, cv2.NORM_MINMAX)\n",
    "    norm_slice = norm_slice.astype(np.uint8)\n",
    "\n",
    "    # Threshold to highlight bright regions (adjust as needed)\n",
    "    _, binary = cv2.threshold(norm_slice, 200, 255, cv2.THRESH_BINARY)\n",
    "\n",
    "    # Find contours\n",
    "    contours, _ = cv2.findContours(binary, cv2.RETR_EXTERNAL, cv2.CHAIN_APPROX_SIMPLE)\n",
    "\n",
    "    for cnt in contours:\n",
    "        # Approximate roundness via area and perimeter\n",
    "        area = cv2.contourArea(cnt)\n",
    "        perimeter = cv2.arcLength(cnt, True)\n",
    "        if perimeter == 0:\n",
    "            continue\n",
    "        circularity = 4 * np.pi * (area / (perimeter * perimeter))\n",
    "\n",
    "        # Keep only circular-looking shapes\n",
    "        if 0.7 < circularity < 1.2 and area > 20:  # adjust area threshold\n",
    "            M = cv2.moments(cnt)\n",
    "            if M[\"m00\"] != 0:\n",
    "                cx = int(M[\"m10\"] / M[\"m00\"])\n",
    "                cy = int(M[\"m01\"] / M[\"m00\"])\n",
    "                marker_coords.append((cx, cy, z))\n",
    "\n",
    "print(f\"Found {len(marker_coords)} ring markers.\")\n",
    "\n",
    "# Optionally: save markers as a binary volume (same shape as CT)\n",
    "marker_volume = np.zeros_like(volume, dtype=np.uint8)\n",
    "for x, y, z in marker_coords:\n",
    "    marker_volume[x, y, z] = 1  # or a label value\n",
    "\n",
    "# Save marker volume to NIfTI\n",
    "marker_img = nib.Nifti1Image(marker_volume, affine)\n",
    "nib.save(marker_img, 'ring_markers.nii.gz')\n"
   ]
  },
  {
   "cell_type": "code",
   "execution_count": null,
   "id": "458b1993",
   "metadata": {},
   "outputs": [],
   "source": []
  }
 ],
 "metadata": {
  "kernelspec": {
   "display_name": "base",
   "language": "python",
   "name": "python3"
  },
  "language_info": {
   "codemirror_mode": {
    "name": "ipython",
    "version": 3
   },
   "file_extension": ".py",
   "mimetype": "text/x-python",
   "name": "python",
   "nbconvert_exporter": "python",
   "pygments_lexer": "ipython3",
   "version": "3.12.3"
  }
 },
 "nbformat": 4,
 "nbformat_minor": 5
}
